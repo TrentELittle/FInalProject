{
 "cells": [
  {
   "cell_type": "code",
   "execution_count": 1,
   "metadata": {},
   "outputs": [],
   "source": [
    "# Import Dependencies\n",
    "import sys, os\n",
    "import pandas as pd\n",
    "import numpy as np\n",
    "import requests\n",
    "import re\n",
    "import json\n",
    "import censusgeocode as cg\n",
    "from IPython.display import display\n",
    "from config import nsrdb_api_key, email_address\n"
   ]
  },
  {
   "cell_type": "code",
   "execution_count": null,
   "metadata": {},
   "outputs": [],
   "source": []
  },
  {
   "cell_type": "code",
   "execution_count": 2,
   "metadata": {},
   "outputs": [],
   "source": [
    "# Pull country-City Data from world-cities.txt file\n",
    "data = pd.read_csv('Resources/uscities.csv')\n",
    "us_cities = pd.DataFrame(data)"
   ]
  },
  {
   "cell_type": "code",
   "execution_count": 3,
   "metadata": {},
   "outputs": [
    {
     "data": {
      "text/html": [
       "<div>\n",
       "<style scoped>\n",
       "    .dataframe tbody tr th:only-of-type {\n",
       "        vertical-align: middle;\n",
       "    }\n",
       "\n",
       "    .dataframe tbody tr th {\n",
       "        vertical-align: top;\n",
       "    }\n",
       "\n",
       "    .dataframe thead th {\n",
       "        text-align: right;\n",
       "    }\n",
       "</style>\n",
       "<table border=\"1\" class=\"dataframe\">\n",
       "  <thead>\n",
       "    <tr style=\"text-align: right;\">\n",
       "      <th></th>\n",
       "      <th>City</th>\n",
       "      <th>State</th>\n",
       "      <th>Population</th>\n",
       "      <th>Latitude</th>\n",
       "      <th>Longitude</th>\n",
       "    </tr>\n",
       "  </thead>\n",
       "  <tbody>\n",
       "    <tr>\n",
       "      <th>0</th>\n",
       "      <td>New York</td>\n",
       "      <td>New York</td>\n",
       "      <td>18713220</td>\n",
       "      <td>40.6943</td>\n",
       "      <td>-73.9249</td>\n",
       "    </tr>\n",
       "    <tr>\n",
       "      <th>1</th>\n",
       "      <td>Los Angeles</td>\n",
       "      <td>California</td>\n",
       "      <td>12750807</td>\n",
       "      <td>34.1139</td>\n",
       "      <td>-118.4068</td>\n",
       "    </tr>\n",
       "    <tr>\n",
       "      <th>2</th>\n",
       "      <td>Chicago</td>\n",
       "      <td>Illinois</td>\n",
       "      <td>8604203</td>\n",
       "      <td>41.8373</td>\n",
       "      <td>-87.6862</td>\n",
       "    </tr>\n",
       "    <tr>\n",
       "      <th>3</th>\n",
       "      <td>Miami</td>\n",
       "      <td>Florida</td>\n",
       "      <td>6445545</td>\n",
       "      <td>25.7839</td>\n",
       "      <td>-80.2102</td>\n",
       "    </tr>\n",
       "    <tr>\n",
       "      <th>4</th>\n",
       "      <td>Dallas</td>\n",
       "      <td>Texas</td>\n",
       "      <td>5743938</td>\n",
       "      <td>32.7936</td>\n",
       "      <td>-96.7662</td>\n",
       "    </tr>\n",
       "  </tbody>\n",
       "</table>\n",
       "</div>"
      ],
      "text/plain": [
       "          City       State  Population  Latitude  Longitude\n",
       "0     New York    New York    18713220   40.6943   -73.9249\n",
       "1  Los Angeles  California    12750807   34.1139  -118.4068\n",
       "2      Chicago    Illinois     8604203   41.8373   -87.6862\n",
       "3        Miami     Florida     6445545   25.7839   -80.2102\n",
       "4       Dallas       Texas     5743938   32.7936   -96.7662"
      ]
     },
     "execution_count": 3,
     "metadata": {},
     "output_type": "execute_result"
    }
   ],
   "source": [
    "# Clean Data for useful variables\n",
    "clean_cities = us_cities[['city', 'state_name', 'population', 'lat', 'lng']]\n",
    "clean_cities = clean_cities.rename(columns={'city': 'City', 'state_name': 'State',\n",
    "                                            'population': 'Population','lat': 'Latitude',\n",
    "                                            'lng': 'Longitude'})\n",
    "clean_cities.head()"
   ]
  },
  {
   "cell_type": "code",
   "execution_count": 47,
   "metadata": {},
   "outputs": [
    {
     "data": {
      "text/html": [
       "<div>\n",
       "<style scoped>\n",
       "    .dataframe tbody tr th:only-of-type {\n",
       "        vertical-align: middle;\n",
       "    }\n",
       "\n",
       "    .dataframe tbody tr th {\n",
       "        vertical-align: top;\n",
       "    }\n",
       "\n",
       "    .dataframe thead th {\n",
       "        text-align: right;\n",
       "    }\n",
       "</style>\n",
       "<table border=\"1\" class=\"dataframe\">\n",
       "  <thead>\n",
       "    <tr style=\"text-align: right;\">\n",
       "      <th></th>\n",
       "      <th>City</th>\n",
       "      <th>State</th>\n",
       "      <th>Population</th>\n",
       "      <th>Latitude</th>\n",
       "      <th>Longitude</th>\n",
       "    </tr>\n",
       "  </thead>\n",
       "  <tbody>\n",
       "    <tr>\n",
       "      <th>38</th>\n",
       "      <td>Virginia Beach</td>\n",
       "      <td>Virginia</td>\n",
       "      <td>1478868</td>\n",
       "      <td>36.7335</td>\n",
       "      <td>-76.0435</td>\n",
       "    </tr>\n",
       "    <tr>\n",
       "      <th>45</th>\n",
       "      <td>Richmond</td>\n",
       "      <td>Virginia</td>\n",
       "      <td>1075798</td>\n",
       "      <td>37.5295</td>\n",
       "      <td>-77.4756</td>\n",
       "    </tr>\n",
       "    <tr>\n",
       "      <th>185</th>\n",
       "      <td>Chesapeake</td>\n",
       "      <td>Virginia</td>\n",
       "      <td>244835</td>\n",
       "      <td>36.6778</td>\n",
       "      <td>-76.3024</td>\n",
       "    </tr>\n",
       "    <tr>\n",
       "      <th>187</th>\n",
       "      <td>Norfolk</td>\n",
       "      <td>Virginia</td>\n",
       "      <td>242742</td>\n",
       "      <td>36.8945</td>\n",
       "      <td>-76.2590</td>\n",
       "    </tr>\n",
       "    <tr>\n",
       "      <th>198</th>\n",
       "      <td>Arlington</td>\n",
       "      <td>Virginia</td>\n",
       "      <td>231803</td>\n",
       "      <td>38.8786</td>\n",
       "      <td>-77.1011</td>\n",
       "    </tr>\n",
       "  </tbody>\n",
       "</table>\n",
       "</div>"
      ],
      "text/plain": [
       "               City     State  Population  Latitude  Longitude\n",
       "38   Virginia Beach  Virginia     1478868   36.7335   -76.0435\n",
       "45         Richmond  Virginia     1075798   37.5295   -77.4756\n",
       "185      Chesapeake  Virginia      244835   36.6778   -76.3024\n",
       "187         Norfolk  Virginia      242742   36.8945   -76.2590\n",
       "198       Arlington  Virginia      231803   38.8786   -77.1011"
      ]
     },
     "execution_count": 47,
     "metadata": {},
     "output_type": "execute_result"
    }
   ],
   "source": [
    "# Separate for only Virginia\n",
    "va_cities = clean_cities[clean_cities['State']=='Virginia']\n",
    "largest_cities = va_cities.head(5)\n",
    "largest_cities\n"
   ]
  },
  {
   "cell_type": "code",
   "execution_count": null,
   "metadata": {},
   "outputs": [],
   "source": [
    "    "
   ]
  },
  {
   "cell_type": "code",
   "execution_count": 44,
   "metadata": {},
   "outputs": [
    {
     "name": "stdout",
     "output_type": "stream",
     "text": [
      "{\"inputs\":{\"wkt\":\"POINT(-76.0435 36.7335)\",\"attributes\":\"dhi,dni,ghi,dew_point,air_temperature,surface_pressure,wind_direction,wind_speed,surface_albedo,,,\",\"names\":\"tmy\",\"full_name\":\"Trent Little\",\"email\":\"trent.e.little@gmail.com\",\"affiliation\":\"NREL\",\"mailing_list\":\"false\",\"reason\":\"test\",\"utc\":\"true\"},\"metadata\":{\"version\":\"2.0.0\",\"resultset\":{\"count\":1}},\"status\":200,\"outputs\":{\"message\":\"File generation in progress. An email will be sent to trent.e.little@gmail.com when the download is ready.\",\"downloadUrl\":\"https://mapfiles.nrel.gov/data/solar/ac60481eb72f1bc50cc592ff04734674.zip\"},\"errors\":[]}\n"
     ]
    }
   ],
   "source": [
    "#Virginia Beach\n",
    "year = \"2019\"\n",
    "name = \"Trent%20Little\"\n",
    "\n",
    "url = f'https://developer.nrel.gov/api/nsrdb/v2/solar/psm3-tmy-download.json?api_key={nsrdb_api_key}'\n",
    "payload = f\"wkt=POINT(-76.0435%2036.7335)&attributes=dhi%2Cdni%2Cghi%2Cdew_point%2Cair_temperature%2Csurface_pressure%2Cwind_direction%2Cwind_speed%2Csurface_albedo%2C%2C%2C&names=tmy&full_name={name}&email={email_address}&affiliation=NREL&mailing_list=false&reason=test&utc=true\"\n",
    "\n",
    "headers = {'content-type': 'application/x-www-form-urlencoded',\n",
    "          'cache-control': 'no-cache'}\n",
    "response = requests.get(url, data = payload, headers = headers)\n",
    "print(response.text)"
   ]
  },
  {
   "cell_type": "code",
   "execution_count": 45,
   "metadata": {},
   "outputs": [
    {
     "name": "stdout",
     "output_type": "stream",
     "text": [
      "{\"inputs\":{\"wkt\":\"POINT(-77.4756 37.5295)\",\"attributes\":\"dhi,dni,ghi,dew_point,air_temperature,surface_pressure,wind_direction,wind_speed,surface_albedo,,,\",\"names\":\"tmy\",\"full_name\":\"Trent Little\",\"email\":\"trent.e.little@gmail.com\",\"affiliation\":\"NREL\",\"mailing_list\":\"false\",\"reason\":\"test\",\"utc\":\"true\"},\"metadata\":{\"version\":\"2.0.0\",\"resultset\":{\"count\":1}},\"status\":200,\"outputs\":{\"message\":\"File generation in progress. An email will be sent to trent.e.little@gmail.com when the download is ready.\",\"downloadUrl\":\"https://mapfiles.nrel.gov/data/solar/2f8dd7cdb6c77fb34cbb02ec01cf4a5b.zip\"},\"errors\":[]}\n"
     ]
    }
   ],
   "source": [
    "url = f'https://developer.nrel.gov/api/nsrdb/v2/solar/psm3-tmy-download.json?api_key={nsrdb_api_key}'\n",
    "payload = f\"wkt=POINT(-77.4756%2037.5295)&attributes=dhi%2Cdni%2Cghi%2Cdew_point%2Cair_temperature%2Csurface_pressure%2Cwind_direction%2Cwind_speed%2Csurface_albedo%2C%2C%2C&names=tmy&full_name={name}&email={email_address}&affiliation=NREL&mailing_list=false&reason=test&utc=true\"\n",
    "\n",
    "headers = {'content-type': 'application/x-www-form-urlencoded',\n",
    "          'cache-control': 'no-cache'}\n",
    "response = requests.get(url, data = payload, headers = headers)\n",
    "print(response.text)\n",
    "    "
   ]
  },
  {
   "cell_type": "code",
   "execution_count": 46,
   "metadata": {},
   "outputs": [
    {
     "name": "stdout",
     "output_type": "stream",
     "text": [
      "{\"inputs\":{\"wkt\":\"POINT(-76.3024 36.6778)\",\"attributes\":\"dhi,dni,ghi,dew_point,air_temperature,surface_pressure,wind_direction,wind_speed,surface_albedo,,,\",\"names\":\"tmy\",\"full_name\":\"Trent Little\",\"email\":\"trent.e.little@gmail.com\",\"affiliation\":\"NREL\",\"mailing_list\":\"false\",\"reason\":\"test\",\"utc\":\"true\"},\"metadata\":{\"version\":\"2.0.0\",\"resultset\":{\"count\":1}},\"status\":200,\"outputs\":{\"message\":\"File generation in progress. An email will be sent to trent.e.little@gmail.com when the download is ready.\",\"downloadUrl\":\"https://mapfiles.nrel.gov/data/solar/a64acdcfbc06ddcf526eae62e977819c.zip\"},\"errors\":[]}\n"
     ]
    }
   ],
   "source": [
    "url = f'https://developer.nrel.gov/api/nsrdb/v2/solar/psm3-tmy-download.json?api_key={nsrdb_api_key}'\n",
    "payload = f\"wkt=POINT(-76.3024%2036.6778)&attributes=dhi%2Cdni%2Cghi%2Cdew_point%2Cair_temperature%2Csurface_pressure%2Cwind_direction%2Cwind_speed%2Csurface_albedo%2C%2C%2C&names=tmy&full_name={name}&email={email_address}&affiliation=NREL&mailing_list=false&reason=test&utc=true\"\n",
    "\n",
    "headers = {'content-type': 'application/x-www-form-urlencoded',\n",
    "          'cache-control': 'no-cache'}\n",
    "response = requests.get(url, data = payload, headers = headers)\n",
    "print(response.text)"
   ]
  },
  {
   "cell_type": "code",
   "execution_count": 48,
   "metadata": {},
   "outputs": [
    {
     "name": "stdout",
     "output_type": "stream",
     "text": [
      "{\"inputs\":{\"wkt\":\"POINT(-76.2590 36.8945)\",\"attributes\":\"dhi,dni,ghi,dew_point,air_temperature,surface_pressure,wind_direction,wind_speed,surface_albedo,,,\",\"names\":\"tmy\",\"full_name\":\"Trent Little\",\"email\":\"trent.e.little@gmail.com\",\"affiliation\":\"NREL\",\"mailing_list\":\"false\",\"reason\":\"test\",\"utc\":\"true\"},\"metadata\":{\"version\":\"2.0.0\",\"resultset\":{\"count\":1}},\"status\":200,\"outputs\":{\"message\":\"File generation in progress. An email will be sent to trent.e.little@gmail.com when the download is ready.\",\"downloadUrl\":\"https://mapfiles.nrel.gov/data/solar/94bd8eee047e328f10806a386586126b.zip\"},\"errors\":[]}\n"
     ]
    }
   ],
   "source": [
    "url = f'https://developer.nrel.gov/api/nsrdb/v2/solar/psm3-tmy-download.json?api_key={nsrdb_api_key}'\n",
    "payload = f\"wkt=POINT(-76.2590%2036.8945)&attributes=dhi%2Cdni%2Cghi%2Cdew_point%2Cair_temperature%2Csurface_pressure%2Cwind_direction%2Cwind_speed%2Csurface_albedo%2C%2C%2C&names=tmy&full_name={name}&email={email_address}&affiliation=NREL&mailing_list=false&reason=test&utc=true\"\n",
    "\n",
    "headers = {'content-type': 'application/x-www-form-urlencoded',\n",
    "          'cache-control': 'no-cache'}\n",
    "response = requests.get(url, data = payload, headers = headers)\n",
    "print(response.text)"
   ]
  },
  {
   "cell_type": "code",
   "execution_count": 50,
   "metadata": {},
   "outputs": [
    {
     "name": "stdout",
     "output_type": "stream",
     "text": [
      "{\"inputs\":{\"wkt\":\"POINT(-77.1011 38.8786)\",\"attributes\":\"dhi,dni,ghi,dew_point,air_temperature,surface_pressure,wind_direction,wind_speed,surface_albedo,,,\",\"names\":\"tmy\",\"full_name\":\"Trent Little\",\"email\":\"trent.e.little@gmail.com\",\"affiliation\":\"NREL\",\"mailing_list\":\"false\",\"reason\":\"test\",\"utc\":\"true\"},\"metadata\":{\"version\":\"2.0.0\",\"resultset\":{\"count\":1}},\"status\":200,\"outputs\":{\"message\":\"File generation in progress. An email will be sent to trent.e.little@gmail.com when the download is ready.\",\"downloadUrl\":\"https://mapfiles.nrel.gov/data/solar/606a6824c9a4bf72e00afb07d53d2fb9.zip\"},\"errors\":[]}\n"
     ]
    }
   ],
   "source": [
    "url = f'https://developer.nrel.gov/api/nsrdb/v2/solar/psm3-tmy-download.json?api_key={nsrdb_api_key}'\n",
    "payload = f\"wkt=POINT(-77.1011%2038.8786)&attributes=dhi%2Cdni%2Cghi%2Cdew_point%2Cair_temperature%2Csurface_pressure%2Cwind_direction%2Cwind_speed%2Csurface_albedo%2C%2C%2C&names=tmy&full_name={name}&email={email_address}&affiliation=NREL&mailing_list=false&reason=test&utc=true\"\n",
    "\n",
    "headers = {'content-type': 'application/x-www-form-urlencoded',\n",
    "          'cache-control': 'no-cache'}\n",
    "response = requests.get(url, data = payload, headers = headers)\n",
    "print(response.text)"
   ]
  },
  {
   "cell_type": "code",
   "execution_count": null,
   "metadata": {},
   "outputs": [],
   "source": []
  }
 ],
 "metadata": {
  "kernelspec": {
   "display_name": "Python 3",
   "language": "python",
   "name": "python3"
  },
  "language_info": {
   "codemirror_mode": {
    "name": "ipython",
    "version": 3
   },
   "file_extension": ".py",
   "mimetype": "text/x-python",
   "name": "python",
   "nbconvert_exporter": "python",
   "pygments_lexer": "ipython3",
   "version": "3.8.3"
  }
 },
 "nbformat": 4,
 "nbformat_minor": 4
}
